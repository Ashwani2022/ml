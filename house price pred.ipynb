{
 "cells": [
  {
   "cell_type": "code",
   "execution_count": 1,
   "id": "8198e6d6",
   "metadata": {},
   "outputs": [],
   "source": [
    "import pandas as pd\n",
    "import numpy as np\n",
    "import matplotlib.pyplot as plt\n",
    "from mpl_toolkits.mplot3d import Axes3D \n",
    "#Tested on 1 may 2023\n"
   ]
  },
  {
   "cell_type": "code",
   "execution_count": 2,
   "id": "a67fef9b",
   "metadata": {},
   "outputs": [
    {
     "data": {
      "text/html": [
       "<div>\n",
       "<style scoped>\n",
       "    .dataframe tbody tr th:only-of-type {\n",
       "        vertical-align: middle;\n",
       "    }\n",
       "\n",
       "    .dataframe tbody tr th {\n",
       "        vertical-align: top;\n",
       "    }\n",
       "\n",
       "    .dataframe thead th {\n",
       "        text-align: right;\n",
       "    }\n",
       "</style>\n",
       "<table border=\"1\" class=\"dataframe\">\n",
       "  <thead>\n",
       "    <tr style=\"text-align: right;\">\n",
       "      <th></th>\n",
       "      <th>Unnamed: 0</th>\n",
       "      <th>price</th>\n",
       "      <th>lotSize</th>\n",
       "      <th>age</th>\n",
       "      <th>landValue</th>\n",
       "      <th>livingArea</th>\n",
       "      <th>pctCollege</th>\n",
       "      <th>bedrooms</th>\n",
       "      <th>fireplaces</th>\n",
       "      <th>bathrooms</th>\n",
       "      <th>rooms</th>\n",
       "      <th>heating</th>\n",
       "      <th>fuel</th>\n",
       "      <th>sewer</th>\n",
       "      <th>waterfront</th>\n",
       "      <th>newConstruction</th>\n",
       "      <th>centralAir</th>\n",
       "    </tr>\n",
       "  </thead>\n",
       "  <tbody>\n",
       "    <tr>\n",
       "      <th>0</th>\n",
       "      <td>1</td>\n",
       "      <td>132500</td>\n",
       "      <td>0.09</td>\n",
       "      <td>42</td>\n",
       "      <td>50000</td>\n",
       "      <td>906</td>\n",
       "      <td>35</td>\n",
       "      <td>2</td>\n",
       "      <td>1</td>\n",
       "      <td>1.0</td>\n",
       "      <td>5</td>\n",
       "      <td>electric</td>\n",
       "      <td>electric</td>\n",
       "      <td>septic</td>\n",
       "      <td>No</td>\n",
       "      <td>No</td>\n",
       "      <td>No</td>\n",
       "    </tr>\n",
       "    <tr>\n",
       "      <th>1</th>\n",
       "      <td>2</td>\n",
       "      <td>181115</td>\n",
       "      <td>0.92</td>\n",
       "      <td>0</td>\n",
       "      <td>22300</td>\n",
       "      <td>1953</td>\n",
       "      <td>51</td>\n",
       "      <td>3</td>\n",
       "      <td>0</td>\n",
       "      <td>2.5</td>\n",
       "      <td>6</td>\n",
       "      <td>hot water/steam</td>\n",
       "      <td>gas</td>\n",
       "      <td>septic</td>\n",
       "      <td>No</td>\n",
       "      <td>No</td>\n",
       "      <td>No</td>\n",
       "    </tr>\n",
       "    <tr>\n",
       "      <th>2</th>\n",
       "      <td>3</td>\n",
       "      <td>109000</td>\n",
       "      <td>0.19</td>\n",
       "      <td>133</td>\n",
       "      <td>7300</td>\n",
       "      <td>1944</td>\n",
       "      <td>51</td>\n",
       "      <td>4</td>\n",
       "      <td>1</td>\n",
       "      <td>1.0</td>\n",
       "      <td>8</td>\n",
       "      <td>hot water/steam</td>\n",
       "      <td>gas</td>\n",
       "      <td>public/commercial</td>\n",
       "      <td>No</td>\n",
       "      <td>No</td>\n",
       "      <td>No</td>\n",
       "    </tr>\n",
       "    <tr>\n",
       "      <th>3</th>\n",
       "      <td>4</td>\n",
       "      <td>155000</td>\n",
       "      <td>0.41</td>\n",
       "      <td>13</td>\n",
       "      <td>18700</td>\n",
       "      <td>1944</td>\n",
       "      <td>51</td>\n",
       "      <td>3</td>\n",
       "      <td>1</td>\n",
       "      <td>1.5</td>\n",
       "      <td>5</td>\n",
       "      <td>hot air</td>\n",
       "      <td>gas</td>\n",
       "      <td>septic</td>\n",
       "      <td>No</td>\n",
       "      <td>No</td>\n",
       "      <td>No</td>\n",
       "    </tr>\n",
       "    <tr>\n",
       "      <th>4</th>\n",
       "      <td>5</td>\n",
       "      <td>86060</td>\n",
       "      <td>0.11</td>\n",
       "      <td>0</td>\n",
       "      <td>15000</td>\n",
       "      <td>840</td>\n",
       "      <td>51</td>\n",
       "      <td>2</td>\n",
       "      <td>0</td>\n",
       "      <td>1.0</td>\n",
       "      <td>3</td>\n",
       "      <td>hot air</td>\n",
       "      <td>gas</td>\n",
       "      <td>public/commercial</td>\n",
       "      <td>No</td>\n",
       "      <td>Yes</td>\n",
       "      <td>Yes</td>\n",
       "    </tr>\n",
       "  </tbody>\n",
       "</table>\n",
       "</div>"
      ],
      "text/plain": [
       "   Unnamed: 0   price  lotSize  age  landValue  livingArea  pctCollege  \\\n",
       "0           1  132500     0.09   42      50000         906          35   \n",
       "1           2  181115     0.92    0      22300        1953          51   \n",
       "2           3  109000     0.19  133       7300        1944          51   \n",
       "3           4  155000     0.41   13      18700        1944          51   \n",
       "4           5   86060     0.11    0      15000         840          51   \n",
       "\n",
       "   bedrooms  fireplaces  bathrooms  rooms          heating      fuel  \\\n",
       "0         2           1        1.0      5         electric  electric   \n",
       "1         3           0        2.5      6  hot water/steam       gas   \n",
       "2         4           1        1.0      8  hot water/steam       gas   \n",
       "3         3           1        1.5      5          hot air       gas   \n",
       "4         2           0        1.0      3          hot air       gas   \n",
       "\n",
       "               sewer waterfront newConstruction centralAir  \n",
       "0             septic         No              No         No  \n",
       "1             septic         No              No         No  \n",
       "2  public/commercial         No              No         No  \n",
       "3             septic         No              No         No  \n",
       "4  public/commercial         No             Yes        Yes  "
      ]
     },
     "execution_count": 2,
     "metadata": {},
     "output_type": "execute_result"
    }
   ],
   "source": [
    "df=pd.read_csv(\"SaratogaHouses.csv\")\n",
    "df.head()"
   ]
  },
  {
   "cell_type": "code",
   "execution_count": 3,
   "id": "01c2da26",
   "metadata": {},
   "outputs": [],
   "source": [
    "livingarea=df['livingArea']\n",
    "landvalue=df['landValue']\n",
    "rooms=df['rooms']\n",
    "centralAir= df['centralAir']\n",
    "price=df['price']\n"
   ]
  },
  {
   "cell_type": "code",
   "execution_count": 4,
   "id": "33cdf938",
   "metadata": {},
   "outputs": [],
   "source": [
    "from sklearn.preprocessing import LabelEncoder"
   ]
  },
  {
   "cell_type": "code",
   "execution_count": 5,
   "id": "b1edb697",
   "metadata": {},
   "outputs": [],
   "source": [
    "encoder= LabelEncoder()\n",
    "centralAir=encoder.fit_transform(centralAir)"
   ]
  },
  {
   "cell_type": "code",
   "execution_count": 6,
   "id": "464bce71",
   "metadata": {},
   "outputs": [],
   "source": [
    "from sklearn.preprocessing import StandardScaler "
   ]
  },
  {
   "cell_type": "code",
   "execution_count": 7,
   "id": "0bbfc706",
   "metadata": {},
   "outputs": [],
   "source": [
    "n=len(price)\n",
    "XO=np.ones(n)\n",
    "X=np.array([XO,livingarea,landvalue,rooms,centralAir]).T\n",
    "y=np.array(price)\n",
    "B=np.random.random((5,1)) "
   ]
  },
  {
   "cell_type": "code",
   "execution_count": 8,
   "id": "888ab3db",
   "metadata": {},
   "outputs": [
    {
     "data": {
      "text/plain": [
       "array([[0.09807124],\n",
       "       [0.88951102],\n",
       "       [0.17989705],\n",
       "       [0.37396533],\n",
       "       [0.88406651]])"
      ]
     },
     "execution_count": 8,
     "metadata": {},
     "output_type": "execute_result"
    }
   ],
   "source": [
    "B"
   ]
  },
  {
   "cell_type": "code",
   "execution_count": 9,
   "id": "9733553f",
   "metadata": {},
   "outputs": [],
   "source": [
    "std=StandardScaler()\n",
    "X=std.fit_transform(X)"
   ]
  },
  {
   "cell_type": "code",
   "execution_count": 10,
   "id": "99cff084",
   "metadata": {},
   "outputs": [
    {
     "data": {
      "text/plain": [
       "(1728,)"
      ]
     },
     "execution_count": 10,
     "metadata": {},
     "output_type": "execute_result"
    }
   ],
   "source": [
    "y.shape "
   ]
  },
  {
   "cell_type": "code",
   "execution_count": 11,
   "id": "a9fe9e9b",
   "metadata": {},
   "outputs": [],
   "source": [
    "y=y.reshape(-1,1) # 2d array\n",
    "y=std.fit_transform(y)"
   ]
  },
  {
   "cell_type": "code",
   "execution_count": 12,
   "id": "10e7ab0d",
   "metadata": {},
   "outputs": [
    {
     "data": {
      "text/plain": [
       "(1728, 1)"
      ]
     },
     "execution_count": 12,
     "metadata": {},
     "output_type": "execute_result"
    }
   ],
   "source": [
    "y.shape"
   ]
  },
  {
   "cell_type": "code",
   "execution_count": 13,
   "id": "8edfdaba",
   "metadata": {},
   "outputs": [
    {
     "data": {
      "text/plain": [
       "array([[ 0.        , -1.36985441,  0.44108417, -0.88163155, -0.76221375],\n",
       "       [ 0.        ,  0.31951971, -0.350095  , -0.44981202, -0.76221375],\n",
       "       [ 0.        ,  0.30499787, -0.77853137,  0.41382706, -0.76221375],\n",
       "       [ 0.        ,  0.30499787, -0.45291972, -0.88163155, -0.76221375],\n",
       "       [ 0.        , -1.47634791, -0.5586007 , -1.74527063,  1.31196793],\n",
       "       [ 0.        , -0.9729241 , -0.58716312,  0.41382706, -0.76221375],\n",
       "       [ 0.        ,  1.60873645, -0.32153257,  0.41382706, -0.76221375],\n",
       "       [ 0.        , -0.1500198 , -0.57002567,  0.84564659, -0.76221375],\n",
       "       [ 0.        , -0.19842594, -0.35295124,  0.41382706, -0.76221375],\n",
       "       [ 0.        , -0.54695011, -0.38151366, -0.44981202, -0.76221375]])"
      ]
     },
     "execution_count": 13,
     "metadata": {},
     "output_type": "execute_result"
    }
   ],
   "source": [
    "X[:10]  # first 10 columns"
   ]
  },
  {
   "cell_type": "code",
   "execution_count": null,
   "id": "456f3968",
   "metadata": {},
   "outputs": [],
   "source": []
  },
  {
   "cell_type": "code",
   "execution_count": 14,
   "id": "e984d8f0",
   "metadata": {},
   "outputs": [],
   "source": [
    "def cost_function(X,y,B):\n",
    "    h=np.sum((X.dot(B)-y)**2)/(2*n)\n",
    "    return h\n",
    "    "
   ]
  },
  {
   "cell_type": "code",
   "execution_count": 15,
   "id": "1357d254",
   "metadata": {},
   "outputs": [
    {
     "data": {
      "text/plain": [
       "array([[-2.14269815],\n",
       "       [-0.62082651],\n",
       "       [-0.38784721],\n",
       "       ...,\n",
       "       [-2.34075766],\n",
       "       [-1.53247066],\n",
       "       [-0.59320325]])"
      ]
     },
     "execution_count": 15,
     "metadata": {},
     "output_type": "execute_result"
    }
   ],
   "source": [
    "X.dot(B)"
   ]
  },
  {
   "cell_type": "code",
   "execution_count": 16,
   "id": "8e625e6d",
   "metadata": {},
   "outputs": [
    {
     "data": {
      "text/plain": [
       "0.7940624243769561"
      ]
     },
     "execution_count": 16,
     "metadata": {},
     "output_type": "execute_result"
    }
   ],
   "source": [
    "cost_function(X,y,B)"
   ]
  },
  {
   "cell_type": "code",
   "execution_count": 23,
   "id": "c08053f5",
   "metadata": {},
   "outputs": [],
   "source": [
    "def gradient_descent(X,y,B,epoch,alpha):\n",
    "    cost_history=[0]*epoch\n",
    "    for i in range(epoch):\n",
    "        y_pred=X.dot(B)\n",
    "        loss=y_pred-y\n",
    "        gradient=(X.T.dot(loss))/n\n",
    "        B=B-alpha*gradient\n",
    "        cost_history[i]=cost_function(X,y,B)\n",
    "    return cost_history, B\n",
    "        "
   ]
  },
  {
   "cell_type": "code",
   "execution_count": 24,
   "id": "1dc249df",
   "metadata": {},
   "outputs": [
    {
     "data": {
      "text/plain": [
       "array([[0.09807124],\n",
       "       [0.88951102],\n",
       "       [0.17989705],\n",
       "       [0.37396533],\n",
       "       [0.88406651]])"
      ]
     },
     "execution_count": 24,
     "metadata": {},
     "output_type": "execute_result"
    }
   ],
   "source": [
    "B"
   ]
  },
  {
   "cell_type": "code",
   "execution_count": 25,
   "id": "854e146c",
   "metadata": {},
   "outputs": [],
   "source": [
    "cost, b=gradient_descent(X,y.flatten(),B,epoch=3000,alpha=0.001)"
   ]
  },
  {
   "cell_type": "code",
   "execution_count": 26,
   "id": "f3c16fbc",
   "metadata": {},
   "outputs": [
    {
     "data": {
      "text/plain": [
       "array([[ 0.09807124,  0.09807124,  0.09807124, ...,  0.09807124,\n",
       "         0.09807124,  0.09807124],\n",
       "       [ 0.11195762,  0.11195762,  0.11195762, ...,  0.11195762,\n",
       "         0.11195762,  0.11195762],\n",
       "       [-0.05593579, -0.05593579, -0.05593579, ..., -0.05593579,\n",
       "        -0.05593579, -0.05593579],\n",
       "       [-0.0931172 , -0.0931172 , -0.0931172 , ..., -0.0931172 ,\n",
       "        -0.0931172 , -0.0931172 ],\n",
       "       [ 0.03165829,  0.03165829,  0.03165829, ...,  0.03165829,\n",
       "         0.03165829,  0.03165829]])"
      ]
     },
     "execution_count": 26,
     "metadata": {},
     "output_type": "execute_result"
    }
   ],
   "source": [
    "b\n"
   ]
  },
  {
   "cell_type": "code",
   "execution_count": 20,
   "id": "eeb947b3",
   "metadata": {},
   "outputs": [
    {
     "data": {
      "text/plain": [
       "[<matplotlib.lines.Line2D at 0x1466de54e50>]"
      ]
     },
     "execution_count": 20,
     "metadata": {},
     "output_type": "execute_result"
    },
    {
     "data": {
      "image/png": "[encoded data removed]",
      "text/plain": [
       "<Figure size 432x288 with 1 Axes>"
      ]
     },
     "metadata": {
      "needs_background": "light"
     },
     "output_type": "display_data"
    }
   ],
   "source": [
    "x1=[i for i in range(3000)]\n",
    "plt.plot(x1,cost)"
   ]
  },
  {
   "cell_type": "code",
   "execution_count": null,
   "id": "3a2f1d4a",
   "metadata": {},
   "outputs": [],
   "source": []
  }
 ],
 "metadata": {
  "kernelspec": {
   "display_name": "Python 3",
   "language": "python",
   "name": "python3"
  },
  "language_info": {
   "codemirror_mode": {
    "name": "ipython",
    "version": 3
   },
   "file_extension": ".py",
   "mimetype": "text/x-python",
   "name": "python",
   "nbconvert_exporter": "python",
   "pygments_lexer": "ipython3",
   "version": "3.9.2"
  }
 },
 "nbformat": 4,
 "nbformat_minor": 5
}
